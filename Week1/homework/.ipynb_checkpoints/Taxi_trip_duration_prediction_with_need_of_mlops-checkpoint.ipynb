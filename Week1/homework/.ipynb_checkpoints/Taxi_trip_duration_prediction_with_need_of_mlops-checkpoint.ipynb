{
 "cells": [
  {
   "cell_type": "markdown",
   "id": "19155fa0",
   "metadata": {},
   "source": [
    "# Homework: Model training in Notebook #"
   ]
  },
  {
   "cell_type": "markdown",
   "id": "3671f18c",
   "metadata": {},
   "source": [
    "Data source: https://www1.nyc.gov/site/tlc/about/tlc-trip-record-data.page"
   ]
  },
  {
   "cell_type": "code",
   "execution_count": 1,
   "id": "ffbae123",
   "metadata": {},
   "outputs": [],
   "source": [
    "import pandas as pd"
   ]
  },
  {
   "cell_type": "code",
   "execution_count": 2,
   "id": "0939ec8e",
   "metadata": {},
   "outputs": [],
   "source": [
    "# !pip install pyarrow"
   ]
  },
  {
   "cell_type": "code",
   "execution_count": 3,
   "id": "6a5cd385",
   "metadata": {},
   "outputs": [],
   "source": [
    "df_jan = pd.read_parquet('./data/fhv_tripdata_2021-01.parquet')\n",
    "df_feb = pd.read_parquet('./data/fhv_tripdata_2021-02.parquet')"
   ]
  },
  {
   "cell_type": "markdown",
   "id": "db2148bc",
   "metadata": {},
   "source": [
    "**Q1: Read the data for January. How many records are there?**"
   ]
  },
  {
   "cell_type": "code",
   "execution_count": 17,
   "id": "c4ce9c33",
   "metadata": {
    "scrolled": true
   },
   "outputs": [
    {
     "data": {
      "text/plain": [
       "1154112"
      ]
     },
     "execution_count": 17,
     "metadata": {},
     "output_type": "execute_result"
    }
   ],
   "source": [
    "df_jan.shape[0]"
   ]
  },
  {
   "cell_type": "code",
   "execution_count": 18,
   "id": "4b83bdde",
   "metadata": {},
   "outputs": [
    {
     "data": {
      "text/html": [
       "<div>\n",
       "<style scoped>\n",
       "    .dataframe tbody tr th:only-of-type {\n",
       "        vertical-align: middle;\n",
       "    }\n",
       "\n",
       "    .dataframe tbody tr th {\n",
       "        vertical-align: top;\n",
       "    }\n",
       "\n",
       "    .dataframe thead th {\n",
       "        text-align: right;\n",
       "    }\n",
       "</style>\n",
       "<table border=\"1\" class=\"dataframe\">\n",
       "  <thead>\n",
       "    <tr style=\"text-align: right;\">\n",
       "      <th></th>\n",
       "      <th>dispatching_base_num</th>\n",
       "      <th>pickup_datetime</th>\n",
       "      <th>dropOff_datetime</th>\n",
       "      <th>PUlocationID</th>\n",
       "      <th>DOlocationID</th>\n",
       "      <th>SR_Flag</th>\n",
       "      <th>Affiliated_base_number</th>\n",
       "    </tr>\n",
       "  </thead>\n",
       "  <tbody>\n",
       "    <tr>\n",
       "      <th>0</th>\n",
       "      <td>B00009</td>\n",
       "      <td>2021-01-01 00:27:00</td>\n",
       "      <td>2021-01-01 00:44:00</td>\n",
       "      <td>NaN</td>\n",
       "      <td>NaN</td>\n",
       "      <td>None</td>\n",
       "      <td>B00009</td>\n",
       "    </tr>\n",
       "    <tr>\n",
       "      <th>1</th>\n",
       "      <td>B00009</td>\n",
       "      <td>2021-01-01 00:50:00</td>\n",
       "      <td>2021-01-01 01:07:00</td>\n",
       "      <td>NaN</td>\n",
       "      <td>NaN</td>\n",
       "      <td>None</td>\n",
       "      <td>B00009</td>\n",
       "    </tr>\n",
       "    <tr>\n",
       "      <th>2</th>\n",
       "      <td>B00013</td>\n",
       "      <td>2021-01-01 00:01:00</td>\n",
       "      <td>2021-01-01 01:51:00</td>\n",
       "      <td>NaN</td>\n",
       "      <td>NaN</td>\n",
       "      <td>None</td>\n",
       "      <td>B00013</td>\n",
       "    </tr>\n",
       "    <tr>\n",
       "      <th>3</th>\n",
       "      <td>B00037</td>\n",
       "      <td>2021-01-01 00:13:09</td>\n",
       "      <td>2021-01-01 00:21:26</td>\n",
       "      <td>NaN</td>\n",
       "      <td>72.0</td>\n",
       "      <td>None</td>\n",
       "      <td>B00037</td>\n",
       "    </tr>\n",
       "    <tr>\n",
       "      <th>4</th>\n",
       "      <td>B00037</td>\n",
       "      <td>2021-01-01 00:38:31</td>\n",
       "      <td>2021-01-01 00:53:44</td>\n",
       "      <td>NaN</td>\n",
       "      <td>61.0</td>\n",
       "      <td>None</td>\n",
       "      <td>B00037</td>\n",
       "    </tr>\n",
       "  </tbody>\n",
       "</table>\n",
       "</div>"
      ],
      "text/plain": [
       "  dispatching_base_num     pickup_datetime    dropOff_datetime  PUlocationID  \\\n",
       "0               B00009 2021-01-01 00:27:00 2021-01-01 00:44:00           NaN   \n",
       "1               B00009 2021-01-01 00:50:00 2021-01-01 01:07:00           NaN   \n",
       "2               B00013 2021-01-01 00:01:00 2021-01-01 01:51:00           NaN   \n",
       "3               B00037 2021-01-01 00:13:09 2021-01-01 00:21:26           NaN   \n",
       "4               B00037 2021-01-01 00:38:31 2021-01-01 00:53:44           NaN   \n",
       "\n",
       "   DOlocationID SR_Flag Affiliated_base_number  \n",
       "0           NaN    None                 B00009  \n",
       "1           NaN    None                 B00009  \n",
       "2           NaN    None                 B00013  \n",
       "3          72.0    None                 B00037  \n",
       "4          61.0    None                 B00037  "
      ]
     },
     "execution_count": 18,
     "metadata": {},
     "output_type": "execute_result"
    }
   ],
   "source": [
    "df_jan.head()"
   ]
  },
  {
   "cell_type": "code",
   "execution_count": 19,
   "id": "6ea3bde5",
   "metadata": {},
   "outputs": [
    {
     "name": "stdout",
     "output_type": "stream",
     "text": [
      "<class 'pandas.core.frame.DataFrame'>\n",
      "RangeIndex: 1154112 entries, 0 to 1154111\n",
      "Data columns (total 7 columns):\n",
      " #   Column                  Non-Null Count    Dtype         \n",
      "---  ------                  --------------    -----         \n",
      " 0   dispatching_base_num    1154112 non-null  object        \n",
      " 1   pickup_datetime         1154112 non-null  datetime64[ns]\n",
      " 2   dropOff_datetime        1154112 non-null  datetime64[ns]\n",
      " 3   PUlocationID            195845 non-null   float64       \n",
      " 4   DOlocationID            991892 non-null   float64       \n",
      " 5   SR_Flag                 0 non-null        object        \n",
      " 6   Affiliated_base_number  1153227 non-null  object        \n",
      "dtypes: datetime64[ns](2), float64(2), object(3)\n",
      "memory usage: 61.6+ MB\n"
     ]
    }
   ],
   "source": [
    "df_jan.info()"
   ]
  },
  {
   "cell_type": "code",
   "execution_count": 57,
   "id": "285cb54f",
   "metadata": {},
   "outputs": [],
   "source": [
    "df_jan['Duration'] = (df_jan['dropOff_datetime'] - df_jan['pickup_datetime']) / pd.Timedelta(minutes=1)"
   ]
  },
  {
   "cell_type": "code",
   "execution_count": 58,
   "id": "99027740",
   "metadata": {},
   "outputs": [
    {
     "data": {
      "text/html": [
       "<div>\n",
       "<style scoped>\n",
       "    .dataframe tbody tr th:only-of-type {\n",
       "        vertical-align: middle;\n",
       "    }\n",
       "\n",
       "    .dataframe tbody tr th {\n",
       "        vertical-align: top;\n",
       "    }\n",
       "\n",
       "    .dataframe thead th {\n",
       "        text-align: right;\n",
       "    }\n",
       "</style>\n",
       "<table border=\"1\" class=\"dataframe\">\n",
       "  <thead>\n",
       "    <tr style=\"text-align: right;\">\n",
       "      <th></th>\n",
       "      <th>dispatching_base_num</th>\n",
       "      <th>pickup_datetime</th>\n",
       "      <th>dropOff_datetime</th>\n",
       "      <th>PUlocationID</th>\n",
       "      <th>DOlocationID</th>\n",
       "      <th>SR_Flag</th>\n",
       "      <th>Affiliated_base_number</th>\n",
       "      <th>Duration</th>\n",
       "    </tr>\n",
       "  </thead>\n",
       "  <tbody>\n",
       "    <tr>\n",
       "      <th>0</th>\n",
       "      <td>B00009</td>\n",
       "      <td>2021-01-01 00:27:00</td>\n",
       "      <td>2021-01-01 00:44:00</td>\n",
       "      <td>NaN</td>\n",
       "      <td>NaN</td>\n",
       "      <td>None</td>\n",
       "      <td>B00009</td>\n",
       "      <td>17.000000</td>\n",
       "    </tr>\n",
       "    <tr>\n",
       "      <th>1</th>\n",
       "      <td>B00009</td>\n",
       "      <td>2021-01-01 00:50:00</td>\n",
       "      <td>2021-01-01 01:07:00</td>\n",
       "      <td>NaN</td>\n",
       "      <td>NaN</td>\n",
       "      <td>None</td>\n",
       "      <td>B00009</td>\n",
       "      <td>17.000000</td>\n",
       "    </tr>\n",
       "    <tr>\n",
       "      <th>2</th>\n",
       "      <td>B00013</td>\n",
       "      <td>2021-01-01 00:01:00</td>\n",
       "      <td>2021-01-01 01:51:00</td>\n",
       "      <td>NaN</td>\n",
       "      <td>NaN</td>\n",
       "      <td>None</td>\n",
       "      <td>B00013</td>\n",
       "      <td>110.000000</td>\n",
       "    </tr>\n",
       "    <tr>\n",
       "      <th>3</th>\n",
       "      <td>B00037</td>\n",
       "      <td>2021-01-01 00:13:09</td>\n",
       "      <td>2021-01-01 00:21:26</td>\n",
       "      <td>NaN</td>\n",
       "      <td>72.0</td>\n",
       "      <td>None</td>\n",
       "      <td>B00037</td>\n",
       "      <td>8.283333</td>\n",
       "    </tr>\n",
       "    <tr>\n",
       "      <th>4</th>\n",
       "      <td>B00037</td>\n",
       "      <td>2021-01-01 00:38:31</td>\n",
       "      <td>2021-01-01 00:53:44</td>\n",
       "      <td>NaN</td>\n",
       "      <td>61.0</td>\n",
       "      <td>None</td>\n",
       "      <td>B00037</td>\n",
       "      <td>15.216667</td>\n",
       "    </tr>\n",
       "  </tbody>\n",
       "</table>\n",
       "</div>"
      ],
      "text/plain": [
       "  dispatching_base_num     pickup_datetime    dropOff_datetime  PUlocationID  \\\n",
       "0               B00009 2021-01-01 00:27:00 2021-01-01 00:44:00           NaN   \n",
       "1               B00009 2021-01-01 00:50:00 2021-01-01 01:07:00           NaN   \n",
       "2               B00013 2021-01-01 00:01:00 2021-01-01 01:51:00           NaN   \n",
       "3               B00037 2021-01-01 00:13:09 2021-01-01 00:21:26           NaN   \n",
       "4               B00037 2021-01-01 00:38:31 2021-01-01 00:53:44           NaN   \n",
       "\n",
       "   DOlocationID SR_Flag Affiliated_base_number    Duration  \n",
       "0           NaN    None                 B00009   17.000000  \n",
       "1           NaN    None                 B00009   17.000000  \n",
       "2           NaN    None                 B00013  110.000000  \n",
       "3          72.0    None                 B00037    8.283333  \n",
       "4          61.0    None                 B00037   15.216667  "
      ]
     },
     "execution_count": 58,
     "metadata": {},
     "output_type": "execute_result"
    }
   ],
   "source": [
    "df_jan.head()"
   ]
  },
  {
   "cell_type": "markdown",
   "id": "53edf473",
   "metadata": {},
   "source": [
    "**Q2: What's the average trip duration in January?**"
   ]
  },
  {
   "cell_type": "code",
   "execution_count": 10,
   "id": "9c977364",
   "metadata": {},
   "outputs": [
    {
     "data": {
      "text/plain": [
       "19.167224093791006"
      ]
     },
     "execution_count": 10,
     "metadata": {},
     "output_type": "execute_result"
    }
   ],
   "source": [
    "df_jan['Duration'].mean()"
   ]
  },
  {
   "cell_type": "code",
   "execution_count": 5,
   "id": "4a89d269",
   "metadata": {},
   "outputs": [],
   "source": [
    "import matplotlib.pyplot as plt\n",
    "import seaborn as sns"
   ]
  },
  {
   "cell_type": "code",
   "execution_count": 11,
   "id": "53f9d33f",
   "metadata": {},
   "outputs": [
    {
     "data": {
      "text/plain": [
       "<AxesSubplot:>"
      ]
     },
     "execution_count": 11,
     "metadata": {},
     "output_type": "execute_result"
    },
    {
     "data": {
      "image/png": "[encoded data removed]",
      "text/plain": [
       "<Figure size 640x480 with 1 Axes>"
      ]
     },
     "metadata": {},
     "output_type": "display_data"
    }
   ],
   "source": [
    "df_jan.boxplot(column='Duration')"
   ]
  },
  {
   "cell_type": "code",
   "execution_count": 59,
   "id": "cbd4eca0",
   "metadata": {},
   "outputs": [
    {
     "data": {
      "text/plain": [
       "1038.7002195877537"
      ]
     },
     "execution_count": 59,
     "metadata": {},
     "output_type": "execute_result"
    }
   ],
   "source": [
    "df_jan['Duration'].skew()"
   ]
  },
  {
   "cell_type": "markdown",
   "id": "c79a1f88",
   "metadata": {},
   "source": [
    "Duration is highly skewed and there are a lot of outliers."
   ]
  },
  {
   "cell_type": "code",
   "execution_count": 36,
   "id": "786865ae",
   "metadata": {},
   "outputs": [
    {
     "data": {
      "text/plain": [
       "count    1.154112e+06\n",
       "mean     1.916722e+01\n",
       "std      3.986922e+02\n",
       "min      1.666667e-02\n",
       "25%      7.766667e+00\n",
       "50%      1.340000e+01\n",
       "75%      2.228333e+01\n",
       "max      4.233710e+05\n",
       "Name: Duration, dtype: float64"
      ]
     },
     "execution_count": 36,
     "metadata": {},
     "output_type": "execute_result"
    }
   ],
   "source": [
    "df_jan['Duration'].describe()"
   ]
  },
  {
   "cell_type": "code",
   "execution_count": 66,
   "id": "a2ab1d3a",
   "metadata": {},
   "outputs": [
    {
     "data": {
      "text/plain": [
       "35.63333333333333"
      ]
     },
     "execution_count": 66,
     "metadata": {},
     "output_type": "execute_result"
    }
   ],
   "source": [
    "df_jan['Duration'].quantile(0.90)"
   ]
  },
  {
   "cell_type": "markdown",
   "id": "4262a8c4",
   "metadata": {},
   "source": [
    "Almost 75% of Duration values are within 22 minutes and 90% of data are having values less than 35.6 minutes."
   ]
  },
  {
   "cell_type": "code",
   "execution_count": 68,
   "id": "1bc9d8cf",
   "metadata": {},
   "outputs": [
    {
     "data": {
      "text/plain": [
       "44.05833333333334"
      ]
     },
     "execution_count": 68,
     "metadata": {},
     "output_type": "execute_result"
    }
   ],
   "source": [
    "Q1 = df_jan['Duration'].quantile(0.25)\n",
    "Q3 = df_jan['Duration'].quantile(0.75)\n",
    "IQR = Q3 - Q1\n",
    "\n",
    "Q3 + 1.5 * IQR"
   ]
  },
  {
   "cell_type": "markdown",
   "id": "e4232e84",
   "metadata": {},
   "source": [
    "Upper limit of the inter quartile range is also capped at 44."
   ]
  },
  {
   "cell_type": "markdown",
   "id": "3deb2c1f",
   "metadata": {},
   "source": [
    "Let us consider the data with Duration between 1 and 60 minutes inclusive and see the distribution."
   ]
  },
  {
   "cell_type": "code",
   "execution_count": 71,
   "id": "5d0dae9b",
   "metadata": {},
   "outputs": [],
   "source": [
    "initial_rec_count = df_jan.shape[0]"
   ]
  },
  {
   "cell_type": "code",
   "execution_count": 72,
   "id": "3b7d975b",
   "metadata": {},
   "outputs": [],
   "source": [
    "df_jan = df_jan[(df_jan['Duration'] >= 1) & (df_jan['Duration'] <= 60)]"
   ]
  },
  {
   "cell_type": "code",
   "execution_count": 73,
   "id": "d09d369a",
   "metadata": {},
   "outputs": [
    {
     "data": {
      "text/plain": [
       "(1109826, 8)"
      ]
     },
     "execution_count": 73,
     "metadata": {},
     "output_type": "execute_result"
    }
   ],
   "source": [
    "df_jan.shape"
   ]
  },
  {
   "cell_type": "markdown",
   "id": "3550dbfc",
   "metadata": {},
   "source": [
    "**Q3: How many records did you drop?**"
   ]
  },
  {
   "cell_type": "code",
   "execution_count": 74,
   "id": "15c0b8a2",
   "metadata": {},
   "outputs": [
    {
     "data": {
      "text/plain": [
       "44286"
      ]
     },
     "execution_count": 74,
     "metadata": {},
     "output_type": "execute_result"
    }
   ],
   "source": [
    "initial_rec_count - df_jan.shape[0]"
   ]
  },
  {
   "cell_type": "code",
   "execution_count": 75,
   "id": "976c4401",
   "metadata": {},
   "outputs": [
    {
     "data": {
      "image/png": "[encoded data removed]",
      "text/plain": [
       "<Figure size 640x480 with 1 Axes>"
      ]
     },
     "metadata": {},
     "output_type": "display_data"
    }
   ],
   "source": [
    "df_jan.Duration.plot.density(color='green')\n",
    "plt.title('Density plot for Duration')\n",
    "plt.show()"
   ]
  },
  {
   "cell_type": "code",
   "execution_count": 76,
   "id": "ab7d8075",
   "metadata": {},
   "outputs": [
    {
     "data": {
      "text/plain": [
       "1.3123212476459634"
      ]
     },
     "execution_count": 76,
     "metadata": {},
     "output_type": "execute_result"
    }
   ],
   "source": [
    "df_jan.Duration.skew()"
   ]
  },
  {
   "cell_type": "markdown",
   "id": "1b07aed0",
   "metadata": {},
   "source": [
    "Although the data is now a little bit right skewed, we will still go ahead with this dataset without any transformation."
   ]
  },
  {
   "cell_type": "code",
   "execution_count": 78,
   "id": "34438bcf",
   "metadata": {},
   "outputs": [
    {
     "data": {
      "text/html": [
       "<div>\n",
       "<style scoped>\n",
       "    .dataframe tbody tr th:only-of-type {\n",
       "        vertical-align: middle;\n",
       "    }\n",
       "\n",
       "    .dataframe tbody tr th {\n",
       "        vertical-align: top;\n",
       "    }\n",
       "\n",
       "    .dataframe thead th {\n",
       "        text-align: right;\n",
       "    }\n",
       "</style>\n",
       "<table border=\"1\" class=\"dataframe\">\n",
       "  <thead>\n",
       "    <tr style=\"text-align: right;\">\n",
       "      <th></th>\n",
       "      <th>dispatching_base_num</th>\n",
       "      <th>pickup_datetime</th>\n",
       "      <th>dropOff_datetime</th>\n",
       "      <th>PUlocationID</th>\n",
       "      <th>DOlocationID</th>\n",
       "      <th>SR_Flag</th>\n",
       "      <th>Affiliated_base_number</th>\n",
       "      <th>Duration</th>\n",
       "    </tr>\n",
       "  </thead>\n",
       "  <tbody>\n",
       "    <tr>\n",
       "      <th>0</th>\n",
       "      <td>B00009</td>\n",
       "      <td>2021-01-01 00:27:00</td>\n",
       "      <td>2021-01-01 00:44:00</td>\n",
       "      <td>NaN</td>\n",
       "      <td>NaN</td>\n",
       "      <td>None</td>\n",
       "      <td>B00009</td>\n",
       "      <td>17.000000</td>\n",
       "    </tr>\n",
       "    <tr>\n",
       "      <th>1</th>\n",
       "      <td>B00009</td>\n",
       "      <td>2021-01-01 00:50:00</td>\n",
       "      <td>2021-01-01 01:07:00</td>\n",
       "      <td>NaN</td>\n",
       "      <td>NaN</td>\n",
       "      <td>None</td>\n",
       "      <td>B00009</td>\n",
       "      <td>17.000000</td>\n",
       "    </tr>\n",
       "    <tr>\n",
       "      <th>3</th>\n",
       "      <td>B00037</td>\n",
       "      <td>2021-01-01 00:13:09</td>\n",
       "      <td>2021-01-01 00:21:26</td>\n",
       "      <td>NaN</td>\n",
       "      <td>72.0</td>\n",
       "      <td>None</td>\n",
       "      <td>B00037</td>\n",
       "      <td>8.283333</td>\n",
       "    </tr>\n",
       "    <tr>\n",
       "      <th>4</th>\n",
       "      <td>B00037</td>\n",
       "      <td>2021-01-01 00:38:31</td>\n",
       "      <td>2021-01-01 00:53:44</td>\n",
       "      <td>NaN</td>\n",
       "      <td>61.0</td>\n",
       "      <td>None</td>\n",
       "      <td>B00037</td>\n",
       "      <td>15.216667</td>\n",
       "    </tr>\n",
       "    <tr>\n",
       "      <th>5</th>\n",
       "      <td>B00037</td>\n",
       "      <td>2021-01-01 00:59:02</td>\n",
       "      <td>2021-01-01 01:08:05</td>\n",
       "      <td>NaN</td>\n",
       "      <td>71.0</td>\n",
       "      <td>None</td>\n",
       "      <td>B00037</td>\n",
       "      <td>9.050000</td>\n",
       "    </tr>\n",
       "  </tbody>\n",
       "</table>\n",
       "</div>"
      ],
      "text/plain": [
       "  dispatching_base_num     pickup_datetime    dropOff_datetime  PUlocationID  \\\n",
       "0               B00009 2021-01-01 00:27:00 2021-01-01 00:44:00           NaN   \n",
       "1               B00009 2021-01-01 00:50:00 2021-01-01 01:07:00           NaN   \n",
       "3               B00037 2021-01-01 00:13:09 2021-01-01 00:21:26           NaN   \n",
       "4               B00037 2021-01-01 00:38:31 2021-01-01 00:53:44           NaN   \n",
       "5               B00037 2021-01-01 00:59:02 2021-01-01 01:08:05           NaN   \n",
       "\n",
       "   DOlocationID SR_Flag Affiliated_base_number   Duration  \n",
       "0           NaN    None                 B00009  17.000000  \n",
       "1           NaN    None                 B00009  17.000000  \n",
       "3          72.0    None                 B00037   8.283333  \n",
       "4          61.0    None                 B00037  15.216667  \n",
       "5          71.0    None                 B00037   9.050000  "
      ]
     },
     "execution_count": 78,
     "metadata": {},
     "output_type": "execute_result"
    }
   ],
   "source": [
    "df_jan.head()"
   ]
  },
  {
   "cell_type": "markdown",
   "id": "a664882c",
   "metadata": {},
   "source": [
    "**What's the fractions of missing values for the pickup location ID? I.e. fraction of \"-1\"s after you filled the NAs.**"
   ]
  },
  {
   "cell_type": "code",
   "execution_count": 81,
   "id": "18a344da",
   "metadata": {},
   "outputs": [
    {
     "data": {
      "text/plain": [
       "0.8352732770722617"
      ]
     },
     "execution_count": 81,
     "metadata": {},
     "output_type": "execute_result"
    }
   ],
   "source": [
    "df_jan.PUlocationID.isna().sum() / df_jan.shape[0]"
   ]
  },
  {
   "cell_type": "code",
   "execution_count": 82,
   "id": "48411876",
   "metadata": {},
   "outputs": [],
   "source": [
    "df_jan['PUlocationID'].fillna(-1, inplace=True)\n",
    "df_jan['DOlocationID'].fillna(-1, inplace=True)"
   ]
  },
  {
   "cell_type": "code",
   "execution_count": 87,
   "id": "921d7148",
   "metadata": {},
   "outputs": [
    {
     "data": {
      "text/plain": [
       "0.8352732770722617"
      ]
     },
     "execution_count": 87,
     "metadata": {},
     "output_type": "execute_result"
    }
   ],
   "source": [
    "sum(df_jan.PUlocationID == -1) / df_jan.shape[0]"
   ]
  },
  {
   "cell_type": "markdown",
   "id": "90c02be8",
   "metadata": {},
   "source": [
    "We will be using Pick up and Drop location IDs for our model training."
   ]
  },
  {
   "cell_type": "code",
   "execution_count": 106,
   "id": "977fad0e",
   "metadata": {},
   "outputs": [],
   "source": [
    "import warnings\n",
    "warnings.filterwarnings('ignore')"
   ]
  },
  {
   "cell_type": "code",
   "execution_count": 110,
   "id": "10d29195",
   "metadata": {},
   "outputs": [],
   "source": [
    "categorical_cols = ['PUlocationID', 'DOlocationID']"
   ]
  },
  {
   "cell_type": "code",
   "execution_count": 111,
   "id": "f70ef7b1",
   "metadata": {},
   "outputs": [],
   "source": [
    "df_jan = df_jan[categorical_cols + ['Duration']]"
   ]
  },
  {
   "cell_type": "code",
   "execution_count": 112,
   "id": "ae31faf0",
   "metadata": {},
   "outputs": [],
   "source": [
    "df_jan[categorical_cols] = df_jan[categorical_cols].astype(str)"
   ]
  },
  {
   "cell_type": "code",
   "execution_count": 113,
   "id": "2f805b41",
   "metadata": {},
   "outputs": [
    {
     "name": "stdout",
     "output_type": "stream",
     "text": [
      "<class 'pandas.core.frame.DataFrame'>\n",
      "Int64Index: 1109826 entries, 0 to 1154111\n",
      "Data columns (total 3 columns):\n",
      " #   Column        Non-Null Count    Dtype  \n",
      "---  ------        --------------    -----  \n",
      " 0   PUlocationID  1109826 non-null  object \n",
      " 1   DOlocationID  1109826 non-null  object \n",
      " 2   Duration      1109826 non-null  float64\n",
      "dtypes: float64(1), object(2)\n",
      "memory usage: 33.9+ MB\n"
     ]
    }
   ],
   "source": [
    "df_jan.info()"
   ]
  },
  {
   "cell_type": "code",
   "execution_count": 91,
   "id": "16fab75b",
   "metadata": {},
   "outputs": [],
   "source": [
    "from sklearn.feature_extraction import DictVectorizer"
   ]
  },
  {
   "cell_type": "code",
   "execution_count": 114,
   "id": "e374b53a",
   "metadata": {},
   "outputs": [],
   "source": [
    "train_dicts = df_jan[categorical_cols].to_dict(orient='records')\n",
    "\n",
    "dv = DictVectorizer()\n",
    "X_train = dv.fit_transform(train_dicts)"
   ]
  },
  {
   "cell_type": "code",
   "execution_count": 115,
   "id": "754e7b60",
   "metadata": {},
   "outputs": [],
   "source": [
    "y_train = df_jan['Duration'].values"
   ]
  },
  {
   "cell_type": "markdown",
   "id": "73f78dcb",
   "metadata": {},
   "source": [
    "**Q5: What's the dimensionality of this matrix? (The number of columns).**"
   ]
  },
  {
   "cell_type": "code",
   "execution_count": 116,
   "id": "1488c9ad",
   "metadata": {},
   "outputs": [
    {
     "data": {
      "text/plain": [
       "(1109826, 525)"
      ]
     },
     "execution_count": 116,
     "metadata": {},
     "output_type": "execute_result"
    }
   ],
   "source": [
    "X_train.shape"
   ]
  },
  {
   "cell_type": "code",
   "execution_count": 117,
   "id": "51849796",
   "metadata": {},
   "outputs": [],
   "source": [
    "from sklearn.linear_model import LinearRegression\n",
    "from sklearn.metrics import mean_squared_error"
   ]
  },
  {
   "cell_type": "markdown",
   "id": "74cf3bdd",
   "metadata": {},
   "source": [
    "**Q6: What's the RMSE on train?**"
   ]
  },
  {
   "cell_type": "code",
   "execution_count": 118,
   "id": "f0af662d",
   "metadata": {},
   "outputs": [
    {
     "data": {
      "text/plain": [
       "10.528519425310185"
      ]
     },
     "execution_count": 118,
     "metadata": {},
     "output_type": "execute_result"
    }
   ],
   "source": [
    "lr = LinearRegression()\n",
    "lr.fit(X_train, y_train)\n",
    "\n",
    "y_pred = lr.predict(X_train)\n",
    "\n",
    "mean_squared_error(y_train, y_pred, squared=False)"
   ]
  },
  {
   "cell_type": "markdown",
   "id": "db143f0c",
   "metadata": {},
   "source": [
    "Now, let's put data preprocssing steps in a function so that we can process the validation set in the same way as well."
   ]
  },
  {
   "cell_type": "code",
   "execution_count": 127,
   "id": "1906e10e",
   "metadata": {},
   "outputs": [],
   "source": [
    "def read_data(filename, cat_cols):\n",
    "    if filename.endswith('.parquet'):\n",
    "        df = pd.read_parquet(filename)\n",
    "        \n",
    "        df['Duration'] = (df['dropOff_datetime'] - df['pickup_datetime']) / pd.Timedelta(minutes=1)\n",
    "        \n",
    "        df = df[(df.Duration >= 1) & (df.Duration <= 60)]\n",
    "        \n",
    "        df[cat_cols] = df[cat_cols].astype(str)\n",
    "        \n",
    "        print(filename, '\\n', df.shape)\n",
    "        \n",
    "        return df"
   ]
  },
  {
   "cell_type": "code",
   "execution_count": 128,
   "id": "17d5fd56",
   "metadata": {},
   "outputs": [
    {
     "name": "stdout",
     "output_type": "stream",
     "text": [
      "./data/fhv_tripdata_2021-01.parquet \n",
      " (1109826, 8)\n",
      "./data/fhv_tripdata_2021-02.parquet \n",
      " (990113, 8)\n"
     ]
    }
   ],
   "source": [
    "cat_cols = ['PUlocationID', 'DOlocationID']\n",
    "\n",
    "df_jan = read_data('./data/fhv_tripdata_2021-01.parquet', cat_cols)\n",
    "df_feb = read_data('./data/fhv_tripdata_2021-02.parquet', cat_cols)"
   ]
  },
  {
   "cell_type": "code",
   "execution_count": 129,
   "id": "92a283e9",
   "metadata": {},
   "outputs": [],
   "source": [
    "dv = DictVectorizer()\n",
    "\n",
    "train_dicts = df_jan[cat_cols].to_dict(orient='records')\n",
    "X_train = dv.fit_transform(train_dicts)\n",
    "\n",
    "val_dicts = df_feb[cat_cols].to_dict(orient='records')\n",
    "X_val = dv.transform(val_dicts)"
   ]
  },
  {
   "cell_type": "code",
   "execution_count": 130,
   "id": "1763f2f5",
   "metadata": {},
   "outputs": [],
   "source": [
    "target = 'Duration'\n",
    "y_train = df_jan[target].values\n",
    "y_val = df_feb[target].values"
   ]
  },
  {
   "cell_type": "markdown",
   "id": "232b8068",
   "metadata": {},
   "source": [
    "**Q7: What's the RMSE on validation?**"
   ]
  },
  {
   "cell_type": "code",
   "execution_count": 131,
   "id": "6b2aa8e7",
   "metadata": {},
   "outputs": [
    {
     "data": {
      "text/plain": [
       "11.014285900683332"
      ]
     },
     "execution_count": 131,
     "metadata": {},
     "output_type": "execute_result"
    }
   ],
   "source": [
    "lr = LinearRegression()\n",
    "lr.fit(X_train, y_train)\n",
    "\n",
    "y_pred = lr.predict(X_val)\n",
    "\n",
    "mean_squared_error(y_val, y_pred, squared=False)"
   ]
  },
  {
   "cell_type": "markdown",
   "id": "01a0bf73",
   "metadata": {},
   "source": [
    "## Why MLOps as we learn from such excercise ##"
   ]
  },
  {
   "cell_type": "markdown",
   "id": "909688b0",
   "metadata": {},
   "source": [
    "**Experiment Tracking**"
   ]
  },
  {
   "cell_type": "markdown",
   "id": "1bbe6a95",
   "metadata": {},
   "source": [
    "Imagine using various parameters and hyper-parameters, and checking the output of it for every such iteration. That is a daunting task, isn't it? We might get lost in midst of a lot of information if done manually. Instead, we can log such data to somewhere that we can help us in tracking all of our experiments for reproducibility and to make the right decision."
   ]
  },
  {
   "cell_type": "markdown",
   "id": "a4089d5c",
   "metadata": {},
   "source": [
    "**Model Registry**"
   ]
  },
  {
   "cell_type": "markdown",
   "id": "dd141dc3",
   "metadata": {},
   "source": [
    "Not only just the tracking of input parameters and corresponding output mapping will do the job. We need to save the actual trained model from that experiment to use in later point of time as well. Hence we need to put the model in the model registry that mostly goes hand in hand with the experiment tracking."
   ]
  },
  {
   "cell_type": "markdown",
   "id": "2f213f2e",
   "metadata": {},
   "source": [
    "**ML Pipelines**"
   ]
  },
  {
   "cell_type": "markdown",
   "id": "04766570",
   "metadata": {},
   "source": [
    "Like the taxi trip duration prediction example here, while working with notebooks we tend to put in the code in various cells for various tasks. Sometimes the work gets messy and it becomes a difficult task to traverse and find out the logical sequence in order to reproduce the result. There might be some steps that need to run only once and rest multiple times. They might have some internal dependencies as well. There in ML pipelines come to rescue where we decompose the code and bind them in a logical fashion controlled by parameters. This helps in better code management."
   ]
  },
  {
   "cell_type": "markdown",
   "id": "94b41a38",
   "metadata": {},
   "source": [
    "**Serving**"
   ]
  },
  {
   "cell_type": "markdown",
   "id": "3cfaca7c",
   "metadata": {},
   "source": [
    "In most of the cases the output of a ML pipeline is a model. We put that model in a web service so that in real world scenario we can get the prediction result on unseen data in an API call. This is what we call as Inference Service. Of course, there are other ways for the model to be served as well and we will discuss more about that in following weeks."
   ]
  },
  {
   "cell_type": "markdown",
   "id": "aa6a2b9a",
   "metadata": {},
   "source": [
    "**Monitoring**"
   ]
  },
  {
   "cell_type": "markdown",
   "id": "7ec0c147",
   "metadata": {},
   "source": [
    "The model is developed and deployed, and serving in the production as well. Are we done? No, we are not done yet. Over the time the data might change, the concepts and business processes and significance might change, hence the model performance might deter as well. We need to monitor the model performance for such scenarios and take necessary steps that might involve model retraining as well."
   ]
  },
  {
   "cell_type": "markdown",
   "id": "aea5f039",
   "metadata": {},
   "source": [
    "**Automation**"
   ]
  },
  {
   "cell_type": "markdown",
   "id": "e7204e01",
   "metadata": {},
   "source": [
    "Detecting model performance changes, finding data drift, retraining the model and auto deploying without human involvement implies the highest level of automation. For that to take place we need to have complete trust in the process. When we can aspire for this level of engineering, we end up with various levels of automation considering the practical implications amd operational maturity."
   ]
  },
  {
   "cell_type": "markdown",
   "id": "5e354824",
   "metadata": {},
   "source": [
    "Microsoft came up with an MLOps maturity model that helps in deciding progressive requirements and establishing appropriate processes.  \n",
    "\n",
    "Link: https://docs.microsoft.com/en-us/azure/architecture/example-scenario/mlops/mlops-maturity-model"
   ]
  },
  {
   "cell_type": "code",
   "execution_count": null,
   "id": "80a2ffa9",
   "metadata": {},
   "outputs": [],
   "source": []
  }
 ],
 "metadata": {
  "kernelspec": {
   "display_name": "Python 3 (ipykernel)",
   "language": "python",
   "name": "python3"
  },
  "language_info": {
   "codemirror_mode": {
    "name": "ipython",
    "version": 3
   },
   "file_extension": ".py",
   "mimetype": "text/x-python",
   "name": "python",
   "nbconvert_exporter": "python",
   "pygments_lexer": "ipython3",
   "version": "3.9.5"
  }
 },
 "nbformat": 4,
 "nbformat_minor": 5
}
