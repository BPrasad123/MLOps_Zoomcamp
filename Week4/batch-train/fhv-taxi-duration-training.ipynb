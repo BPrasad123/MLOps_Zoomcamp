{
 "cells": [
  {
   "cell_type": "code",
   "execution_count": 22,
   "metadata": {},
   "outputs": [],
   "source": [
    "# import libraries\n",
    "\n",
    "import pickle\n",
    "\n",
    "import pandas as pd\n",
    "\n",
    "from sklearn.feature_extraction import DictVectorizer\n",
    "from sklearn.ensemble import RandomForestRegressor\n",
    "from sklearn.metrics import mean_squared_error\n",
    "from sklearn.pipeline import make_pipeline\n",
    "\n",
    "import mlflow\n",
    "\n",
    "from prefect import task, flow, get_run_logger"
   ]
  },
  {
   "cell_type": "markdown",
   "metadata": {},
   "source": [
    "Steps to perform in terminal:\n",
    "\n",
    "1. Create S3 bucket\n",
    "2. Check if EC2 has access to S3 with ```aws s3 ls```\n",
    "3. Start mlflow UI with db backend and s3 artifact store (newly created bucket)\n",
    "   ``` mlflow server --backend-store-uri=sqlite:///mlflow.db --default-artifact-root=s3://bhagabat-fhv-taxi-prediction/ ```\n",
    "4. Ensure 5000 port forward on localhost added (you can check port in visual studio)\n",
    "5. You should be able to access mlflow ui on browser http://127.0.0.1/5000\n"
   ]
  },
  {
   "cell_type": "code",
   "execution_count": 2,
   "metadata": {},
   "outputs": [
    {
     "name": "stderr",
     "output_type": "stream",
     "text": [
      "2022/06/29 13:56:36 INFO mlflow.tracking.fluent: Experiment with name 'fhv-taxi-duration' does not exist. Creating a new experiment.\n"
     ]
    },
    {
     "data": {
      "text/plain": [
       "<Experiment: artifact_location='s3://bhagabat-fhv-taxi-prediction/1', experiment_id='1', lifecycle_stage='active', name='fhv-taxi-duration', tags={}>"
      ]
     },
     "execution_count": 2,
     "metadata": {},
     "output_type": "execute_result"
    }
   ],
   "source": [
    "# Once mlflow is up and running set the tracking uri and experiment name\n",
    "\n",
    "mlflow.set_tracking_uri(\"http://127.0.0.1:5000\")\n",
    "mlflow.set_experiment(\"fhv-taxi-duration\")"
   ]
  },
  {
   "cell_type": "code",
   "execution_count": 23,
   "metadata": {},
   "outputs": [],
   "source": [
    "# function to read the dataframe\n",
    "\n",
    "@task\n",
    "def read_dataframe(filename: str):\n",
    "    logger = get_run_logger()\n",
    "    logger.info(f\"Reading file: {filename}...\")\n",
    "    df = pd.read_parquet(filename)\n",
    "    return df"
   ]
  },
  {
   "cell_type": "code",
   "execution_count": 29,
   "metadata": {},
   "outputs": [],
   "source": [
    "# function to preprocess dataset\n",
    "\n",
    "@task\n",
    "def preprocess_data(df, categorical):\n",
    "    logger = get_run_logger()\n",
    "    logger.info('Processing the dataframe...')\n",
    "    df['duration'] = df.dropOff_datetime - df.pickup_datetime\n",
    "    df['duration'] = df.duration.dt.total_seconds() / 60\n",
    "    df = df[(df.duration >= 1) & (df.duration <= 60)].copy()\n",
    "\n",
    "    df[categorical] = df[categorical].fillna(-1).astype('int').astype('str')\n",
    "    return df"
   ]
  },
  {
   "cell_type": "code",
   "execution_count": 32,
   "metadata": {},
   "outputs": [],
   "source": [
    "# Instead of downloading the datasets manually, we can copy links of files and read the data into dataframe\n",
    "# Site: https://www1.nyc.gov/site/tlc/about/tlc-trip-record-data.page\n",
    "\n",
    "@flow\n",
    "def train_model():\n",
    "    with mlflow.start_run():\n",
    "        logger = get_run_logger()\n",
    "        logger.info('Training the model...')\n",
    "        mlflow.sklearn.autolog()\n",
    "        df_train = read_dataframe(r'https://nyc-tlc.s3.amazonaws.com/trip+data/fhv_tripdata_2021-01.parquet').result()\n",
    "        df_val = read_dataframe(r'https://nyc-tlc.s3.amazonaws.com/trip+data/fhv_tripdata_2021-02.parquet').result()\n",
    "\n",
    "        categorical = ['PUlocationID', 'DOlocationID']\n",
    "        df_train = preprocess_data(df_train, categorical).result()\n",
    "        df_val = preprocess_data(df_val, categorical).result()\n",
    "\n",
    "        target = 'duration'\n",
    "        y_train = df_train[target].values\n",
    "        y_val = df_val[target].values\n",
    "\n",
    "        params = dict(max_depth=20, n_estimators=100, min_samples_leaf=10, random_state=0)\n",
    "        mlflow.log_params(params)\n",
    "        pipeline = make_pipeline(\n",
    "            DictVectorizer(),\n",
    "            RandomForestRegressor(**params, n_jobs=-1)\n",
    "        )         \n",
    "\n",
    "        train_dicts = df_train[categorical].to_dict(orient='records')\n",
    "        val_dicts = df_val[categorical].to_dict(orient='records')\n",
    "\n",
    "\n",
    "        pipeline.fit(train_dicts, y_train)\n",
    "        y_pred = pipeline.predict(val_dicts)\n",
    "\n",
    "        RandomForestRegressor(**params, n_jobs=-1)\n",
    "\n",
    "        rmse = mean_squared_error(y_pred, y_val, squared=False)\n",
    "        logger.info(f'rmse: {rmse}')\n",
    "        mlflow.log_metric('rmse', rmse)\n",
    "\n",
    "        # mlflow.sklearn.log_model(pipeline, artifact_path=\"model\")\n",
    "\n"
   ]
  },
  {
   "cell_type": "code",
   "execution_count": 33,
   "metadata": {},
   "outputs": [
    {
     "name": "stderr",
     "output_type": "stream",
     "text": [
      "16:01:21.371 | INFO    | prefect.engine - Created flow run 'chestnut-cicada' for flow 'train-model'\n",
      "16:01:21.372 | INFO    | Flow run 'chestnut-cicada' - Using task runner 'ConcurrentTaskRunner'\n",
      "16:01:21.384 | WARNING | Flow run 'chestnut-cicada' - No default storage is configured on the server. Results from this flow run will be stored in a temporary directory in its runtime environment.\n",
      "16:01:21.429 | INFO    | Flow run 'chestnut-cicada' - Training the model...\n",
      "16:01:21.532 | INFO    | Flow run 'chestnut-cicada' - Created task run 'read_dataframe-c80ba253-5' for task 'read_dataframe'\n",
      "16:01:21.763 | INFO    | Task run 'read_dataframe-c80ba253-5' - Reading file: https://nyc-tlc.s3.amazonaws.com/trip+data/fhv_tripdata_2021-01.parquet...\n",
      "16:01:29.269 | INFO    | Task run 'read_dataframe-c80ba253-5' - Finished in state Completed()\n",
      "16:01:29.306 | INFO    | Flow run 'chestnut-cicada' - Created task run 'read_dataframe-c80ba253-6' for task 'read_dataframe'\n",
      "16:01:29.451 | INFO    | Task run 'read_dataframe-c80ba253-6' - Reading file: https://nyc-tlc.s3.amazonaws.com/trip+data/fhv_tripdata_2021-02.parquet...\n",
      "16:01:35.411 | INFO    | Task run 'read_dataframe-c80ba253-6' - Finished in state Completed()\n",
      "16:01:35.454 | INFO    | Flow run 'chestnut-cicada' - Created task run 'preprocess_data-947a97ec-2' for task 'preprocess_data'\n",
      "16:01:35.576 | INFO    | Task run 'preprocess_data-947a97ec-2' - Processing the dataframe...\n",
      "16:01:42.443 | INFO    | Task run 'preprocess_data-947a97ec-2' - Finished in state Completed()\n",
      "16:01:42.483 | INFO    | Flow run 'chestnut-cicada' - Created task run 'preprocess_data-947a97ec-3' for task 'preprocess_data'\n",
      "16:01:42.827 | INFO    | Task run 'preprocess_data-947a97ec-3' - Processing the dataframe...\n",
      "16:01:48.912 | INFO    | Task run 'preprocess_data-947a97ec-3' - Finished in state Completed()\n",
      "2022/06/29 16:03:01 WARNING mlflow.sklearn: Failed to infer model signature: Expected one of (pandas.DataFrame, numpy array, dictionary of (name -> numpy.ndarray), pyspark.sql.DataFrame) but got '<class 'list'>'\n",
      "16:03:07.790 | INFO    | Flow run 'chestnut-cicada' - rmse: 11.166177777637333\n",
      "16:03:14.018 | INFO    | Flow run 'chestnut-cicada' - Finished in state Completed('All states completed.')\n"
     ]
    },
    {
     "data": {
      "text/plain": [
       "Completed(message='All states completed.', type=COMPLETED, result=[Completed(message=None, type=COMPLETED, result=        dispatching_base_num     pickup_datetime    dropOff_datetime  \\\n",
       "0                     B00009 2021-01-01 00:27:00 2021-01-01 00:44:00   \n",
       "1                     B00009 2021-01-01 00:50:00 2021-01-01 01:07:00   \n",
       "2                     B00013 2021-01-01 00:01:00 2021-01-01 01:51:00   \n",
       "3                     B00037 2021-01-01 00:13:09 2021-01-01 00:21:26   \n",
       "4                     B00037 2021-01-01 00:38:31 2021-01-01 00:53:44   \n",
       "...                      ...                 ...                 ...   \n",
       "1154107               B03266 2021-01-31 23:43:03 2021-01-31 23:51:48   \n",
       "1154108               B03284 2021-01-31 23:50:27 2021-02-01 00:48:03   \n",
       "1154109      B03285          2021-01-31 23:13:46 2021-01-31 23:29:58   \n",
       "1154110      B03285          2021-01-31 23:58:03 2021-02-01 00:17:29   \n",
       "1154111               B03321 2021-01-31 23:39:00 2021-02-01 00:15:00   \n",
       "\n",
       "         PUlocationID  DOlocationID SR_Flag Affiliated_base_number    duration  \n",
       "0                 NaN           NaN    None                 B00009   17.000000  \n",
       "1                 NaN           NaN    None                 B00009   17.000000  \n",
       "2                 NaN           NaN    None                 B00013  110.000000  \n",
       "3                 NaN          72.0    None                 B00037    8.283333  \n",
       "4                 NaN          61.0    None                 B00037   15.216667  \n",
       "...               ...           ...     ...                    ...         ...  \n",
       "1154107           7.0           7.0    None                 B03266    8.750000  \n",
       "1154108          44.0          91.0    None                          57.600000  \n",
       "1154109         171.0         171.0    None        B03285            16.200000  \n",
       "1154110          15.0          15.0    None        B03285            19.433333  \n",
       "1154111           NaN           NaN    None                 B03321   36.000000  \n",
       "\n",
       "[1154112 rows x 8 columns], task_run_id=c7de26ea-8899-4be1-a9bf-0aad58090b58), Completed(message=None, type=COMPLETED, result=        dispatching_base_num     pickup_datetime    dropOff_datetime  \\\n",
       "0                     B00013 2021-02-01 00:01:00 2021-02-01 01:33:00   \n",
       "1            B00021          2021-02-01 00:55:40 2021-02-01 01:06:20   \n",
       "2            B00021          2021-02-01 00:14:03 2021-02-01 00:28:37   \n",
       "3            B00021          2021-02-01 00:27:48 2021-02-01 00:35:45   \n",
       "4                     B00037 2021-02-01 00:12:50 2021-02-01 00:26:38   \n",
       "...                      ...                 ...                 ...   \n",
       "1037687               B03282 2021-02-28 23:01:16 2021-02-28 23:14:48   \n",
       "1037688               B03282 2021-02-28 23:36:10 2021-02-28 23:47:38   \n",
       "1037689      B03285          2021-02-28 23:18:36 2021-02-28 23:43:59   \n",
       "1037690      B03285          2021-02-28 23:26:34 2021-02-28 23:44:37   \n",
       "1037691      B03285          2021-02-28 23:24:00 2021-02-28 23:40:00   \n",
       "\n",
       "         PUlocationID  DOlocationID SR_Flag Affiliated_base_number   duration  \n",
       "0                 NaN           NaN    None                 B00014  92.000000  \n",
       "1               173.0          82.0    None        B00021           10.666667  \n",
       "2               173.0          56.0    None        B00021           14.566667  \n",
       "3                82.0         129.0    None        B00021            7.950000  \n",
       "4                 NaN         225.0    None                 B00037  13.800000  \n",
       "...               ...           ...     ...                    ...        ...  \n",
       "1037687           NaN          31.0    None                 B01717  13.533333  \n",
       "1037688           NaN         169.0    None                 B01717  11.466667  \n",
       "1037689          28.0         171.0    None        B03285           25.383333  \n",
       "1037690          16.0         252.0    None        B03285           18.050000  \n",
       "1037691         171.0         135.0    None        B03285           16.000000  \n",
       "\n",
       "[1037692 rows x 8 columns], task_run_id=ba37d330-fc95-4b0b-af53-a213e6a963b1), Completed(message=None, type=COMPLETED, result=        dispatching_base_num     pickup_datetime    dropOff_datetime  \\\n",
       "0                     B00009 2021-01-01 00:27:00 2021-01-01 00:44:00   \n",
       "1                     B00009 2021-01-01 00:50:00 2021-01-01 01:07:00   \n",
       "3                     B00037 2021-01-01 00:13:09 2021-01-01 00:21:26   \n",
       "4                     B00037 2021-01-01 00:38:31 2021-01-01 00:53:44   \n",
       "5                     B00037 2021-01-01 00:59:02 2021-01-01 01:08:05   \n",
       "...                      ...                 ...                 ...   \n",
       "1154107               B03266 2021-01-31 23:43:03 2021-01-31 23:51:48   \n",
       "1154108               B03284 2021-01-31 23:50:27 2021-02-01 00:48:03   \n",
       "1154109      B03285          2021-01-31 23:13:46 2021-01-31 23:29:58   \n",
       "1154110      B03285          2021-01-31 23:58:03 2021-02-01 00:17:29   \n",
       "1154111               B03321 2021-01-31 23:39:00 2021-02-01 00:15:00   \n",
       "\n",
       "        PUlocationID DOlocationID SR_Flag Affiliated_base_number   duration  \n",
       "0                 -1           -1    None                 B00009  17.000000  \n",
       "1                 -1           -1    None                 B00009  17.000000  \n",
       "3                 -1           72    None                 B00037   8.283333  \n",
       "4                 -1           61    None                 B00037  15.216667  \n",
       "5                 -1           71    None                 B00037   9.050000  \n",
       "...              ...          ...     ...                    ...        ...  \n",
       "1154107            7            7    None                 B03266   8.750000  \n",
       "1154108           44           91    None                         57.600000  \n",
       "1154109          171          171    None        B03285           16.200000  \n",
       "1154110           15           15    None        B03285           19.433333  \n",
       "1154111           -1           -1    None                 B03321  36.000000  \n",
       "\n",
       "[1109826 rows x 8 columns], task_run_id=535dfdb5-6043-48b7-9681-dff02aea059f), Completed(message=None, type=COMPLETED, result=        dispatching_base_num     pickup_datetime    dropOff_datetime  \\\n",
       "1            B00021          2021-02-01 00:55:40 2021-02-01 01:06:20   \n",
       "2            B00021          2021-02-01 00:14:03 2021-02-01 00:28:37   \n",
       "3            B00021          2021-02-01 00:27:48 2021-02-01 00:35:45   \n",
       "4                     B00037 2021-02-01 00:12:50 2021-02-01 00:26:38   \n",
       "5                     B00037 2021-02-01 00:00:37 2021-02-01 00:09:35   \n",
       "...                      ...                 ...                 ...   \n",
       "1037687               B03282 2021-02-28 23:01:16 2021-02-28 23:14:48   \n",
       "1037688               B03282 2021-02-28 23:36:10 2021-02-28 23:47:38   \n",
       "1037689      B03285          2021-02-28 23:18:36 2021-02-28 23:43:59   \n",
       "1037690      B03285          2021-02-28 23:26:34 2021-02-28 23:44:37   \n",
       "1037691      B03285          2021-02-28 23:24:00 2021-02-28 23:40:00   \n",
       "\n",
       "        PUlocationID DOlocationID SR_Flag Affiliated_base_number   duration  \n",
       "1                173           82    None        B00021           10.666667  \n",
       "2                173           56    None        B00021           14.566667  \n",
       "3                 82          129    None        B00021            7.950000  \n",
       "4                 -1          225    None                 B00037  13.800000  \n",
       "5                 -1           61    None                 B00037   8.966667  \n",
       "...              ...          ...     ...                    ...        ...  \n",
       "1037687           -1           31    None                 B01717  13.533333  \n",
       "1037688           -1          169    None                 B01717  11.466667  \n",
       "1037689           28          171    None        B03285           25.383333  \n",
       "1037690           16          252    None        B03285           18.050000  \n",
       "1037691          171          135    None        B03285           16.000000  \n",
       "\n",
       "[990113 rows x 8 columns], task_run_id=d0aa820f-2f76-4b0e-af8e-0b4d8efb9350)], flow_run_id=a7443bda-d6dd-4dd1-85ed-c4324413b3e3)"
      ]
     },
     "execution_count": 33,
     "metadata": {},
     "output_type": "execute_result"
    }
   ],
   "source": [
    "train_model()"
   ]
  },
  {
   "cell_type": "code",
   "execution_count": null,
   "metadata": {},
   "outputs": [],
   "source": []
  }
 ],
 "metadata": {
  "kernelspec": {
   "display_name": "Python 3.9.12 ('base')",
   "language": "python",
   "name": "python3"
  },
  "language_info": {
   "codemirror_mode": {
    "name": "ipython",
    "version": 3
   },
   "file_extension": ".py",
   "mimetype": "text/x-python",
   "name": "python",
   "nbconvert_exporter": "python",
   "pygments_lexer": "ipython3",
   "version": "3.9.12"
  },
  "orig_nbformat": 4,
  "vscode": {
   "interpreter": {
    "hash": "caf1c2fcf97217de91eafa76b907d50f9ea378f5ffbee7f571142d119bb6a771"
   }
  }
 },
 "nbformat": 4,
 "nbformat_minor": 2
}
