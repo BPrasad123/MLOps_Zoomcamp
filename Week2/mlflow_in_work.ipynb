{
 "cells": [
  {
   "cell_type": "markdown",
   "metadata": {},
   "source": [
    "# NewYork Taxi Duration Prediction"
   ]
  },
  {
   "cell_type": "markdown",
   "metadata": {},
   "source": [
    "## Preprocessing Data ##"
   ]
  },
  {
   "cell_type": "code",
   "execution_count": 1,
   "metadata": {},
   "outputs": [],
   "source": [
    "# import libraries for data preprocessing\n",
    "\n",
    "import pandas as pd\n",
    "from sklearn.feature_extraction import DictVectorizer\n",
    "\n",
    "import os"
   ]
  },
  {
   "cell_type": "code",
   "execution_count": 2,
   "metadata": {},
   "outputs": [],
   "source": [
    "# function to read the data and remove outliers\n",
    "\n",
    "def read_dataframe(filename: str):\n",
    "    df = pd.read_parquet(filename)\n",
    "\n",
    "    df['duration'] = df.lpep_dropoff_datetime - df.lpep_pickup_datetime\n",
    "    df.duration = df.duration.apply(lambda td: td.total_seconds() / 60)\n",
    "    df = df[(df.duration >= 1) & (df.duration <= 60)]\n",
    "\n",
    "    categorical = ['PULocationID', 'DOLocationID']\n",
    "    df[categorical] = df[categorical].astype(str)\n",
    "\n",
    "    return df"
   ]
  },
  {
   "cell_type": "code",
   "execution_count": 3,
   "metadata": {},
   "outputs": [],
   "source": [
    "# function to preprocess the dataset\n",
    "\n",
    "def preprocess(df: pd.DataFrame, dv: DictVectorizer, fit_dv: bool = False):\n",
    "    df['PU_DO'] = df['PULocationID'] + '_' + df['DOLocationID']\n",
    "    categorical = ['PU_DO']\n",
    "    numerical = ['trip_distance']\n",
    "    dicts = df[categorical + numerical].to_dict(orient='records')\n",
    "    if fit_dv:\n",
    "        X = dv.fit_transform(dicts)\n",
    "    else:\n",
    "        X = dv.transform(dicts)\n",
    "    return X, dv"
   ]
  },
  {
   "cell_type": "code",
   "execution_count": 4,
   "metadata": {},
   "outputs": [],
   "source": [
    "# call read and preprocessing functions for train, validation and test datasets\n",
    "\n",
    "def run(raw_data_path: str, dest_path: str, dataset: str = \"green\"):\n",
    "    # load parquet files\n",
    "    df_train = read_dataframe(\n",
    "        os.path.join(raw_data_path, f\"{dataset}_tripdata_2021-01.parquet\")\n",
    "    )\n",
    "    df_valid = read_dataframe(\n",
    "        os.path.join(raw_data_path, f\"{dataset}_tripdata_2021-02.parquet\")\n",
    "    )\n",
    "    df_test = read_dataframe(\n",
    "        os.path.join(raw_data_path, f\"{dataset}_tripdata_2021-03.parquet\")\n",
    "    )\n",
    "\n",
    "    # extract the target\n",
    "    target = 'duration'\n",
    "    y_train = df_train[target].values\n",
    "    y_valid = df_valid[target].values\n",
    "    y_test = df_test[target].values\n",
    "\n",
    "    # fit the dictvectorizer and preprocess data\n",
    "    dv = DictVectorizer()\n",
    "    X_train, dv = preprocess(df_train, dv, fit_dv=True)\n",
    "    X_valid, _ = preprocess(df_valid, dv, fit_dv=False)\n",
    "    X_test, _ = preprocess(df_test, dv, fit_dv=False)\n",
    "\n",
    "    return X_train, y_train, X_valid, y_valid, X_test, y_test, dv"
   ]
  },
  {
   "cell_type": "code",
   "execution_count": 5,
   "metadata": {},
   "outputs": [],
   "source": [
    "# set the paths\n",
    "\n",
    "raw_data_path = r'C:\\Users\\bhaga\\Documents\\MLOps\\Zoomcamp\\MLOps_Zoomcamp\\Week2\\data'\n",
    "dest_path = r'./output'\n",
    "dataset = r'green'"
   ]
  },
  {
   "cell_type": "code",
   "execution_count": 6,
   "metadata": {},
   "outputs": [],
   "source": [
    "# get the preprocessed datasets\n",
    "\n",
    "X_train, y_train, X_valid, y_valid, X_test, y_test, dv = \\\n",
    "    run(raw_data_path=raw_data_path, dest_path=dest_path, dataset=dataset)"
   ]
  },
  {
   "cell_type": "markdown",
   "metadata": {},
   "source": [
    "### Import and set mlflow ###"
   ]
  },
  {
   "cell_type": "code",
   "execution_count": 14,
   "metadata": {},
   "outputs": [
    {
     "data": {
      "text/plain": [
       "<Experiment: artifact_location='./mlruns/1', experiment_id='1', lifecycle_stage='active', name='nyc-taxi-experiment', tags={}>"
      ]
     },
     "execution_count": 14,
     "metadata": {},
     "output_type": "execute_result"
    }
   ],
   "source": [
    "import mlflow                                     # include mlflow to track\n",
    "\n",
    "mlflow.set_tracking_uri(\"sqlite:///mlflow.db\")    # since sqlite is used as mlflow backend\n",
    "mlflow.set_experiment(\"nyc-taxi-experiment\")      # set the experiment name. Created if not existing "
   ]
  },
  {
   "cell_type": "markdown",
   "metadata": {},
   "source": [
    "<img src=\"img/01trackerpage.png\" />"
   ]
  },
  {
   "cell_type": "markdown",
   "metadata": {},
   "source": [
    "### Train using Linear Regressor, Add experiment to mlflow manually ###"
   ]
  },
  {
   "cell_type": "code",
   "execution_count": 7,
   "metadata": {},
   "outputs": [],
   "source": [
    "# import linear regression model to train\n",
    "\n",
    "from sklearn.linear_model import LinearRegression\n",
    "from sklearn.metrics import mean_squared_error"
   ]
  },
  {
   "cell_type": "code",
   "execution_count": 38,
   "metadata": {},
   "outputs": [],
   "source": [
    "# create models folder if not existing already\n",
    "\n",
    "dest_path = 'models'\n",
    "os.makedirs(dest_path, exist_ok=True)"
   ]
  },
  {
   "cell_type": "code",
   "execution_count": 50,
   "metadata": {},
   "outputs": [],
   "source": [
    "# train the model and track the run in mlflow\n",
    "\n",
    "with mlflow.start_run():\n",
    "\n",
    "    mlflow.set_tag(\"developers\", \"cristian & bhagabat\") # set the tags to the run as key value pair\n",
    "\n",
    "    mlflow.log_param(\"train-data-path\", \"./data/green_tripdata_2021-01.csv\") # add param log\n",
    "    mlflow.log_param(\"valid-data-path\", \"./data/green_tripdata_2021-02.csv\") # add param log\n",
    "\n",
    "    lr = LinearRegression()\n",
    "    lr.fit(X_train, y_train)\n",
    "    y_pred = lr.predict(X_valid)\n",
    "    rmse = mean_squared_error(y_valid, y_pred, squared=False)\n",
    "\n",
    "    mlflow.log_metric(\"rmse\", rmse) # log metric\n",
    "    mlflow.log_artifact(local_path=\"models/lin_reg.bin\", artifact_path=\"models_pickle\") # log model artifact"
   ]
  },
  {
   "attachments": {},
   "cell_type": "markdown",
   "metadata": {},
   "source": [
    "<img src=\"img/02lrexperiment.png\" />"
   ]
  },
  {
   "cell_type": "markdown",
   "metadata": {},
   "source": [
    "### Train using XGBOOST and Manually track experiment with hyperparameter tunning ###"
   ]
  },
  {
   "cell_type": "code",
   "execution_count": 16,
   "metadata": {},
   "outputs": [],
   "source": [
    "import xgboost as xgb"
   ]
  },
  {
   "cell_type": "code",
   "execution_count": 9,
   "metadata": {},
   "outputs": [],
   "source": [
    "from hyperopt import fmin, tpe, hp, STATUS_OK, Trials\n",
    "from hyperopt.pyll import scope"
   ]
  },
  {
   "cell_type": "code",
   "execution_count": 10,
   "metadata": {},
   "outputs": [],
   "source": [
    "# change dataset format to DMatrix as per XGBOOST required format\n",
    "\n",
    "train = xgb.DMatrix(X_train, label=y_train)\n",
    "valid = xgb.DMatrix(X_valid, label=y_valid)"
   ]
  },
  {
   "cell_type": "code",
   "execution_count": 18,
   "metadata": {},
   "outputs": [],
   "source": [
    "# define objective function to use in hyperopt method fmin\n",
    "\n",
    "def objective(params):\n",
    "    with mlflow.start_run(): # tracks for each iteration\n",
    "        mlflow.set_tag(\"model\", \"xgboost\") # set tag\n",
    "        mlflow.set_tag(\"developers\", \"cristian & bhagabat\") # set tag\n",
    "        mlflow.log_params(params)\n",
    "        booster = xgb.train(\n",
    "            params=params,\n",
    "            dtrain=train,\n",
    "            num_boost_round=50,\n",
    "            evals=[(valid, 'validation')],\n",
    "            early_stopping_rounds=5\n",
    "        )\n",
    "        y_pred = booster.predict(valid)\n",
    "        rmse = mean_squared_error(y_valid, y_pred, squared=False)\n",
    "        mlflow.log_metric(\"rmse\", rmse)\n",
    "\n",
    "    return {'loss': rmse, 'status': STATUS_OK}"
   ]
  },
  {
   "cell_type": "code",
   "execution_count": 19,
   "metadata": {
    "scrolled": false
   },
   "outputs": [
    {
     "name": "stdout",
     "output_type": "stream",
     "text": [
      "[17:41:42] WARNING: C:/Users/Administrator/workspace/xgboost-win64_release_1.6.0/src/objective/regression_obj.cu:203: reg:linear is now deprecated in favor of reg:squarederror.\n",
      "[0]\tvalidation-rmse:15.90914                         \n",
      "[1]\tvalidation-rmse:12.40669                         \n",
      "[2]\tvalidation-rmse:10.15263                         \n",
      "[3]\tvalidation-rmse:8.74693                          \n",
      "[4]\tvalidation-rmse:7.89633                          \n",
      "[5]\tvalidation-rmse:7.39165                          \n",
      "[6]\tvalidation-rmse:7.09077                          \n",
      "[7]\tvalidation-rmse:6.90823                          \n",
      "[8]\tvalidation-rmse:6.79337                          \n",
      "[9]\tvalidation-rmse:6.71709                          \n",
      "[10]\tvalidation-rmse:6.66684                         \n",
      "[11]\tvalidation-rmse:6.63464                         \n",
      "[12]\tvalidation-rmse:6.61214                         \n",
      "[13]\tvalidation-rmse:6.59494                         \n",
      "[14]\tvalidation-rmse:6.58491                         \n",
      "[15]\tvalidation-rmse:6.57793                         \n",
      "[16]\tvalidation-rmse:6.57181                         \n",
      "[17]\tvalidation-rmse:6.56681                         \n",
      "[18]\tvalidation-rmse:6.56298                         \n",
      "[19]\tvalidation-rmse:6.55827                         \n",
      "[20]\tvalidation-rmse:6.55583                         \n",
      "[21]\tvalidation-rmse:6.55216                         \n",
      "[22]\tvalidation-rmse:6.54880                         \n",
      "[23]\tvalidation-rmse:6.54723                         \n",
      "[24]\tvalidation-rmse:6.54544                         \n",
      "[25]\tvalidation-rmse:6.54319                         \n",
      "[26]\tvalidation-rmse:6.54200                         \n",
      "[27]\tvalidation-rmse:6.53779                         \n",
      "[28]\tvalidation-rmse:6.53580                         \n",
      "[29]\tvalidation-rmse:6.53374                         \n",
      "[30]\tvalidation-rmse:6.53244                         \n",
      "[31]\tvalidation-rmse:6.53080                         \n",
      "[32]\tvalidation-rmse:6.52960                         \n",
      "[33]\tvalidation-rmse:6.52747                         \n",
      "[34]\tvalidation-rmse:6.52620                         \n",
      "[35]\tvalidation-rmse:6.52504                         \n",
      "[36]\tvalidation-rmse:6.52447                         \n",
      "[37]\tvalidation-rmse:6.52324                         \n",
      "[38]\tvalidation-rmse:6.52173                         \n",
      "[39]\tvalidation-rmse:6.51951                         \n",
      "[40]\tvalidation-rmse:6.51762                         \n",
      "[41]\tvalidation-rmse:6.51433                         \n",
      "[42]\tvalidation-rmse:6.51293                         \n",
      "[43]\tvalidation-rmse:6.51194                         \n",
      "[44]\tvalidation-rmse:6.51175                         \n",
      "[45]\tvalidation-rmse:6.51033                         \n",
      "[46]\tvalidation-rmse:6.50957                         \n",
      "[47]\tvalidation-rmse:6.50884                         \n",
      "[48]\tvalidation-rmse:6.50779                         \n",
      "[49]\tvalidation-rmse:6.50679                         \n",
      "[17:41:45] WARNING: C:/Users/Administrator/workspace/xgboost-win64_release_1.6.0/src/objective/regression_obj.cu:203: reg:linear is now deprecated in favor of reg:squarederror.\n",
      "[0]\tvalidation-rmse:17.22789                                                   \n",
      "[1]\tvalidation-rmse:14.24778                                                   \n",
      "[2]\tvalidation-rmse:12.04187                                                   \n",
      "[3]\tvalidation-rmse:10.43292                                                   \n",
      "[4]\tvalidation-rmse:9.28001                                                    \n",
      "[5]\tvalidation-rmse:8.46817                                                    \n",
      "[6]\tvalidation-rmse:7.90074                                                    \n",
      "[7]\tvalidation-rmse:7.50528                                                    \n",
      "[8]\tvalidation-rmse:7.23419                                                    \n",
      "[9]\tvalidation-rmse:7.04500                                                    \n",
      "[10]\tvalidation-rmse:6.91052                                                   \n",
      "[11]\tvalidation-rmse:6.81499                                                   \n",
      "[12]\tvalidation-rmse:6.74425                                                   \n",
      "[13]\tvalidation-rmse:6.69407                                                   \n",
      "[14]\tvalidation-rmse:6.65615                                                   \n",
      "[15]\tvalidation-rmse:6.62739                                                   \n",
      "[16]\tvalidation-rmse:6.60299                                                   \n",
      "[17]\tvalidation-rmse:6.58567                                                   \n",
      "[18]\tvalidation-rmse:6.57031                                                   \n",
      "[19]\tvalidation-rmse:6.55850                                                   \n",
      "[20]\tvalidation-rmse:6.54867                                                   \n",
      "[21]\tvalidation-rmse:6.54120                                                   \n",
      "[22]\tvalidation-rmse:6.53614                                                   \n",
      "[23]\tvalidation-rmse:6.53063                                                   \n",
      "[24]\tvalidation-rmse:6.52647                                                   \n",
      "[25]\tvalidation-rmse:6.52311                                                   \n",
      "[26]\tvalidation-rmse:6.52016                                                   \n",
      "[27]\tvalidation-rmse:6.51788                                                   \n",
      "[28]\tvalidation-rmse:6.51569                                                   \n",
      "[29]\tvalidation-rmse:6.51338                                                   \n",
      "[30]\tvalidation-rmse:6.51197                                                   \n",
      "[31]\tvalidation-rmse:6.51032                                                   \n",
      "[32]\tvalidation-rmse:6.50799                                                   \n",
      "[33]\tvalidation-rmse:6.50653                                                   \n",
      "[34]\tvalidation-rmse:6.50423                                                   \n",
      "[35]\tvalidation-rmse:6.50337                                                   \n",
      "[36]\tvalidation-rmse:6.50195                                                   \n",
      "[37]\tvalidation-rmse:6.50119                                                   \n",
      "[38]\tvalidation-rmse:6.49964                                                   \n",
      "[39]\tvalidation-rmse:6.49817                                                   \n",
      "[40]\tvalidation-rmse:6.49715                                                   \n",
      "[41]\tvalidation-rmse:6.49650                                                   \n",
      "[42]\tvalidation-rmse:6.49415                                                   \n",
      "[43]\tvalidation-rmse:6.49375                                                   \n",
      "[44]\tvalidation-rmse:6.49293                                                   \n",
      "[45]\tvalidation-rmse:6.49202                                                   \n",
      "[46]\tvalidation-rmse:6.49160                                                   \n",
      "[47]\tvalidation-rmse:6.49129                                                   \n",
      "[48]\tvalidation-rmse:6.49046                                                   \n",
      "[49]\tvalidation-rmse:6.48978                                                   \n",
      "[17:41:55] WARNING: C:/Users/Administrator/workspace/xgboost-win64_release_1.6.0/src/objective/regression_obj.cu:203: reg:linear is now deprecated in favor of reg:squarederror.\n",
      "[0]\tvalidation-rmse:19.00083                                                  \n",
      "[1]\tvalidation-rmse:17.10409                                                  \n",
      "[2]\tvalidation-rmse:15.47017                                                  \n",
      "[3]\tvalidation-rmse:14.06619                                                  \n",
      "[4]\tvalidation-rmse:12.86460                                                  \n",
      "[5]\tvalidation-rmse:11.83992                                                  \n",
      "[6]\tvalidation-rmse:10.97134                                                  \n",
      "[7]\tvalidation-rmse:10.23719                                                  \n",
      "[8]\tvalidation-rmse:9.62119                                                   \n",
      "[9]\tvalidation-rmse:9.10384                                                   \n",
      "[10]\tvalidation-rmse:8.67254                                                  \n",
      "[11]\tvalidation-rmse:8.31547                                                  \n",
      "[12]\tvalidation-rmse:8.01655                                                  \n",
      "[13]\tvalidation-rmse:7.76997                                                  \n",
      "[14]\tvalidation-rmse:7.56664                                                  \n",
      "[15]\tvalidation-rmse:7.39816                                                  \n",
      "[16]\tvalidation-rmse:7.25963                                                  \n",
      "[17]\tvalidation-rmse:7.14401                                                  \n",
      "[18]\tvalidation-rmse:7.04864                                                  \n",
      "[19]\tvalidation-rmse:6.96823                                                  \n",
      "[20]\tvalidation-rmse:6.89994                                                  \n",
      "[21]\tvalidation-rmse:6.84303                                                  \n",
      "[22]\tvalidation-rmse:6.79563                                                  \n",
      "[23]\tvalidation-rmse:6.75388                                                  \n",
      "[24]\tvalidation-rmse:6.71989                                                  \n",
      "[25]\tvalidation-rmse:6.69066                                                  \n",
      "[26]\tvalidation-rmse:6.66572                                                  \n",
      "[27]\tvalidation-rmse:6.64419                                                  \n",
      "[28]\tvalidation-rmse:6.62499                                                  \n",
      "[29]\tvalidation-rmse:6.60783                                                  \n",
      "[30]\tvalidation-rmse:6.59248                                                  \n",
      "[31]\tvalidation-rmse:6.57977                                                  \n",
      "[32]\tvalidation-rmse:6.56898                                                  \n",
      "[33]\tvalidation-rmse:6.56010                                                  \n",
      "[34]\tvalidation-rmse:6.55115                                                  \n",
      "[35]\tvalidation-rmse:6.54364                                                  \n",
      "[36]\tvalidation-rmse:6.53661                                                  \n",
      "[37]\tvalidation-rmse:6.53033                                                  \n",
      "[38]\tvalidation-rmse:6.52421                                                  \n",
      "[39]\tvalidation-rmse:6.51938                                                  \n",
      "[40]\tvalidation-rmse:6.51528                                                  \n",
      "[41]\tvalidation-rmse:6.51206                                                  \n",
      "[42]\tvalidation-rmse:6.50892                                                  \n",
      "[43]\tvalidation-rmse:6.50645                                                  \n",
      "[44]\tvalidation-rmse:6.50408                                                  \n",
      "[45]\tvalidation-rmse:6.50165                                                  \n",
      "[46]\tvalidation-rmse:6.49896                                                  \n",
      "[47]\tvalidation-rmse:6.49733                                                  \n",
      "[48]\tvalidation-rmse:6.49537                                                  \n",
      "[49]\tvalidation-rmse:6.49332                                                  \n",
      "[17:42:03] WARNING: C:/Users/Administrator/workspace/xgboost-win64_release_1.6.0/src/objective/regression_obj.cu:203: reg:linear is now deprecated in favor of reg:squarederror.\n",
      "[0]\tvalidation-rmse:18.39202                                                  \n",
      "[1]\tvalidation-rmse:16.08301                                                  \n",
      "[2]\tvalidation-rmse:14.18576                                                  \n",
      "[3]\tvalidation-rmse:12.63951                                                  \n",
      "[4]\tvalidation-rmse:11.39252                                                  \n",
      "[5]\tvalidation-rmse:10.38986                                                  \n",
      "[6]\tvalidation-rmse:9.58815                                                   \n",
      "[7]\tvalidation-rmse:8.95728                                                   \n",
      "[8]\tvalidation-rmse:8.45840                                                   \n",
      "[9]\tvalidation-rmse:8.06852                                                   \n",
      "[10]\tvalidation-rmse:7.76590                                                  \n",
      "[11]\tvalidation-rmse:7.52821                                                  \n",
      "[12]\tvalidation-rmse:7.34298                                                  \n",
      "[13]\tvalidation-rmse:7.19724                                                  \n",
      "[14]\tvalidation-rmse:7.08338                                                  \n",
      "[15]\tvalidation-rmse:6.99308                                                  \n",
      "[16]\tvalidation-rmse:6.92145                                                  \n",
      "[17]\tvalidation-rmse:6.86568                                                  \n",
      "[18]\tvalidation-rmse:6.81866                                                  \n",
      "[19]\tvalidation-rmse:6.78224                                                  \n",
      "[20]\tvalidation-rmse:6.75257                                                  \n",
      "[21]\tvalidation-rmse:6.72931                                                  \n",
      "[22]\tvalidation-rmse:6.70841                                                  \n",
      "[23]\tvalidation-rmse:6.69308                                                  \n",
      "[24]\tvalidation-rmse:6.67898                                                  \n",
      "[25]\tvalidation-rmse:6.66835                                                  \n",
      "[26]\tvalidation-rmse:6.65910                                                  \n",
      "[27]\tvalidation-rmse:6.65113                                                  \n",
      "[28]\tvalidation-rmse:6.64489                                                  \n",
      "[29]\tvalidation-rmse:6.64017                                                  \n",
      "[30]\tvalidation-rmse:6.63411                                                  \n",
      "[31]\tvalidation-rmse:6.63107                                                  \n",
      "[32]\tvalidation-rmse:6.62758                                                  \n",
      "[33]\tvalidation-rmse:6.62437                                                  \n",
      "[34]\tvalidation-rmse:6.62093                                                  \n",
      "[35]\tvalidation-rmse:6.61804                                                  \n",
      "[36]\tvalidation-rmse:6.61511                                                  \n",
      "[37]\tvalidation-rmse:6.61312                                                  \n",
      "[38]\tvalidation-rmse:6.61166                                                  \n",
      "[39]\tvalidation-rmse:6.60933                                                  \n",
      "[40]\tvalidation-rmse:6.60737                                                  \n",
      "[41]\tvalidation-rmse:6.60504                                                  \n",
      "[42]\tvalidation-rmse:6.60425                                                  \n",
      "[43]\tvalidation-rmse:6.60339                                                  \n",
      "[44]\tvalidation-rmse:6.60123                                                  \n",
      "[45]\tvalidation-rmse:6.59996                                                  \n",
      "[46]\tvalidation-rmse:6.59917                                                  \n",
      "[47]\tvalidation-rmse:6.59881                                                  \n",
      "[48]\tvalidation-rmse:6.59754                                                  \n",
      "[49]\tvalidation-rmse:6.59622                                                  \n",
      "[17:42:06] WARNING: C:/Users/Administrator/workspace/xgboost-win64_release_1.6.0/src/objective/regression_obj.cu:203: reg:linear is now deprecated in favor of reg:squarederror.\n",
      "[0]\tvalidation-rmse:16.75211                                                  \n",
      "[1]\tvalidation-rmse:13.56392                                                  \n",
      "[2]\tvalidation-rmse:11.31370                                                  \n",
      "[3]\tvalidation-rmse:9.76717                                                   \n",
      "[4]\tvalidation-rmse:8.72328                                                   \n",
      "[5]\tvalidation-rmse:8.02863                                                   \n",
      "[6]\tvalidation-rmse:7.57065                                                   \n",
      "[7]\tvalidation-rmse:7.26672                                                   \n",
      "[8]\tvalidation-rmse:7.06776                                                   \n",
      "[9]\tvalidation-rmse:6.93424                                                   \n",
      "[10]\tvalidation-rmse:6.84244                                                  \n",
      "[11]\tvalidation-rmse:6.77971                                                  \n",
      "[12]\tvalidation-rmse:6.73508                                                  \n",
      "[13]\tvalidation-rmse:6.70228                                                  \n",
      "[14]\tvalidation-rmse:6.67922                                                  \n",
      "[15]\tvalidation-rmse:6.66191                                                  \n",
      "[16]\tvalidation-rmse:6.65007                                                  \n",
      "[17]\tvalidation-rmse:6.64034                                                  \n",
      "[18]\tvalidation-rmse:6.63414                                                  \n",
      "[19]\tvalidation-rmse:6.62892                                                  \n",
      "[20]\tvalidation-rmse:6.62544                                                  \n",
      "[21]\tvalidation-rmse:6.62060                                                  \n",
      "[22]\tvalidation-rmse:6.61744                                                  \n",
      "[23]\tvalidation-rmse:6.61436                                                  \n",
      "[24]\tvalidation-rmse:6.61116                                                  \n",
      "[25]\tvalidation-rmse:6.60854                                                  \n",
      "[26]\tvalidation-rmse:6.60578                                                  \n",
      "[27]\tvalidation-rmse:6.60356                                                  \n",
      "[28]\tvalidation-rmse:6.60274                                                  \n",
      "[29]\tvalidation-rmse:6.60054                                                  \n",
      "[30]\tvalidation-rmse:6.59992                                                  \n",
      "[31]\tvalidation-rmse:6.59842                                                  \n",
      "[32]\tvalidation-rmse:6.59719                                                  \n",
      "[33]\tvalidation-rmse:6.59421                                                  \n",
      "[34]\tvalidation-rmse:6.59246                                                  \n",
      "[35]\tvalidation-rmse:6.59125                                                  \n",
      "[36]\tvalidation-rmse:6.58789                                                  \n",
      "[37]\tvalidation-rmse:6.58759                                                  \n",
      "[38]\tvalidation-rmse:6.58586                                                  \n",
      "[39]\tvalidation-rmse:6.58318                                                  \n",
      "[40]\tvalidation-rmse:6.58248                                                  \n",
      "[41]\tvalidation-rmse:6.58041                                                  \n",
      "[42]\tvalidation-rmse:6.57898                                                  \n",
      "[43]\tvalidation-rmse:6.57735                                                  \n",
      "[44]\tvalidation-rmse:6.57594                                                  \n",
      "[45]\tvalidation-rmse:6.57383                                                  \n",
      "[46]\tvalidation-rmse:6.57344                                                  \n",
      "[47]\tvalidation-rmse:6.57052                                                  \n",
      "[48]\tvalidation-rmse:6.56978                                                  \n",
      "[49]\tvalidation-rmse:6.56886                                                  \n",
      "100%|██████████| 5/5 [00:27<00:00,  5.47s/trial, best loss: 6.489778452368431]\n"
     ]
    }
   ],
   "source": [
    "# hyper parameter tunning and logging information from each iteration to mlflow\n",
    "\n",
    "search_space = {\n",
    "    'max_depth': scope.int(hp.quniform('max_depth', 4, 100, 1)),\n",
    "    'learning_rate': hp.loguniform('learning_rate', -3, 0),\n",
    "    'reg_alpha': hp.loguniform('reg_alpha', -5, -1),\n",
    "    'reg_lambda': hp.loguniform('reg_lambda', -6, -1),\n",
    "    'min_child_weight': hp.loguniform('min_child_weight', -1, 3),\n",
    "    'objective': 'reg:linear',\n",
    "    'seed': 42\n",
    "}\n",
    "\n",
    "best_result = fmin(\n",
    "    fn=objective,\n",
    "    space=search_space,\n",
    "    algo=tpe.suggest,\n",
    "    max_evals=5,\n",
    "    trials=Trials()\n",
    ")"
   ]
  },
  {
   "attachments": {},
   "cell_type": "markdown",
   "metadata": {},
   "source": [
    "<img src=\"img/03xgbexppart1.png\" />"
   ]
  },
  {
   "attachments": {},
   "cell_type": "markdown",
   "metadata": {},
   "source": [
    "<img src=\"img/03xgbexppart2.png\" />"
   ]
  },
  {
   "attachments": {},
   "cell_type": "markdown",
   "metadata": {},
   "source": [
    "<img src=\"img/03xgbexppart3.png\" />"
   ]
  },
  {
   "cell_type": "code",
   "execution_count": 23,
   "metadata": {},
   "outputs": [
    {
     "data": {
      "text/plain": [
       "{'learning_rate': 0.22353400762067857,\n",
       " 'max_depth': 68.0,\n",
       " 'min_child_weight': 3.015698587159239,\n",
       " 'reg_alpha': 0.1571705295351568,\n",
       " 'reg_lambda': 0.0046564250492034925}"
      ]
     },
     "execution_count": 23,
     "metadata": {},
     "output_type": "execute_result"
    }
   ],
   "source": [
    "best_result"
   ]
  },
  {
   "cell_type": "code",
   "execution_count": 24,
   "metadata": {},
   "outputs": [],
   "source": [
    "best_result['max_depth'] = int(best_result['max_depth'])"
   ]
  },
  {
   "cell_type": "markdown",
   "metadata": {},
   "source": [
    "### Train XGBOOST model and track using mlflow autolog ###"
   ]
  },
  {
   "cell_type": "code",
   "execution_count": 25,
   "metadata": {},
   "outputs": [
    {
     "name": "stdout",
     "output_type": "stream",
     "text": [
      "[0]\tvalidation-rmse:17.22789\n",
      "[1]\tvalidation-rmse:14.24778\n",
      "[2]\tvalidation-rmse:12.04187\n",
      "[3]\tvalidation-rmse:10.43292\n",
      "[4]\tvalidation-rmse:9.28001\n",
      "[5]\tvalidation-rmse:8.46817\n",
      "[6]\tvalidation-rmse:7.90074\n",
      "[7]\tvalidation-rmse:7.50528\n",
      "[8]\tvalidation-rmse:7.23419\n",
      "[9]\tvalidation-rmse:7.04500\n",
      "[10]\tvalidation-rmse:6.91052\n",
      "[11]\tvalidation-rmse:6.81499\n",
      "[12]\tvalidation-rmse:6.74425\n",
      "[13]\tvalidation-rmse:6.69407\n",
      "[14]\tvalidation-rmse:6.65615\n",
      "[15]\tvalidation-rmse:6.62739\n",
      "[16]\tvalidation-rmse:6.60299\n",
      "[17]\tvalidation-rmse:6.58567\n",
      "[18]\tvalidation-rmse:6.57031\n",
      "[19]\tvalidation-rmse:6.55850\n",
      "[20]\tvalidation-rmse:6.54867\n",
      "[21]\tvalidation-rmse:6.54120\n",
      "[22]\tvalidation-rmse:6.53614\n",
      "[23]\tvalidation-rmse:6.53063\n",
      "[24]\tvalidation-rmse:6.52647\n",
      "[25]\tvalidation-rmse:6.52311\n",
      "[26]\tvalidation-rmse:6.52016\n",
      "[27]\tvalidation-rmse:6.51788\n",
      "[28]\tvalidation-rmse:6.51569\n",
      "[29]\tvalidation-rmse:6.51338\n",
      "[30]\tvalidation-rmse:6.51197\n",
      "[31]\tvalidation-rmse:6.51032\n",
      "[32]\tvalidation-rmse:6.50799\n",
      "[33]\tvalidation-rmse:6.50653\n",
      "[34]\tvalidation-rmse:6.50423\n",
      "[35]\tvalidation-rmse:6.50337\n",
      "[36]\tvalidation-rmse:6.50195\n",
      "[37]\tvalidation-rmse:6.50119\n",
      "[38]\tvalidation-rmse:6.49964\n",
      "[39]\tvalidation-rmse:6.49817\n",
      "[40]\tvalidation-rmse:6.49715\n",
      "[41]\tvalidation-rmse:6.49650\n",
      "[42]\tvalidation-rmse:6.49415\n",
      "[43]\tvalidation-rmse:6.49375\n",
      "[44]\tvalidation-rmse:6.49293\n",
      "[45]\tvalidation-rmse:6.49202\n",
      "[46]\tvalidation-rmse:6.49160\n",
      "[47]\tvalidation-rmse:6.49129\n",
      "[48]\tvalidation-rmse:6.49046\n",
      "[49]\tvalidation-rmse:6.48978\n"
     ]
    },
    {
     "name": "stderr",
     "output_type": "stream",
     "text": [
      "2022/06/21 17:57:52 WARNING mlflow.xgboost: Failed to infer model signature: could not sample data to infer model signature: please ensure that autologging is enabled before constructing the dataset.\n",
      "2022/06/21 17:57:56 WARNING mlflow.utils.autologging_utils: Encountered unexpected error during xgboost autologging: The following failures occurred while performing one or more logging operations: [MlflowException('Failed to perform one or more operations on the run with ID cd6a05b210384478b6e11b63ab70a9ea. Failed operations: [MlflowException(\"Changing param values is not allowed. Params were already logged=\\'[{\\'key\\': \\'num_boost_round\\', \\'old_value\\': None, \\'new_value\\': \\'50\\'}, {\\'key\\': \\'early_stopping_rounds\\', \\'old_value\\': None, \\'new_value\\': \\'5\\'}, {\\'key\\': \\'maximize\\', \\'old_value\\': None, \\'new_value\\': \\'None\\'}, {\\'key\\': \\'verbose_eval\\', \\'old_value\\': None, \\'new_value\\': \\'True\\'}, {\\'key\\': \\'custom_metric\\', \\'old_value\\': None, \\'new_value\\': \\'None\\'}]\\' for run ID=\\'cd6a05b210384478b6e11b63ab70a9ea\\'.\")]')]\n"
     ]
    }
   ],
   "source": [
    "mlflow.xgboost.autolog() # set auto logging\n",
    "\n",
    "params = best_result # as obtained from previous run for hyperparameter tuning\n",
    "with mlflow.start_run(): # Start tracking\n",
    "\n",
    "    mlflow.log_param(\"train-data-path\", \"./data/green_tripdata_2021-01.csv\")\n",
    "    mlflow.log_param(\"valid-data-path\", \"./data/green_tripdata_2021-02.csv\")\n",
    "    mlflow.set_tag(\"model\", \"xgboost\") # set tag\n",
    "    mlflow.set_tag(\"developers\", \"cristian & bhagabat\") # set tag\n",
    "    mlflow.set_tag(\"logtype\", \"auto\") # set tag\n",
    "    mlflow.log_params(params)\n",
    "    booster = xgb.train(\n",
    "        params=params,\n",
    "        dtrain=train,\n",
    "        num_boost_round=50,\n",
    "        evals=[(valid, 'validation')],\n",
    "        early_stopping_rounds=5\n",
    "    )\n",
    "    y_pred = booster.predict(valid)\n",
    "    rmse = mean_squared_error(y_valid, y_pred, squared=False)\n",
    "    mlflow.log_metric(\"rmse\", rmse)"
   ]
  },
  {
   "attachments": {},
   "cell_type": "markdown",
   "metadata": {},
   "source": [
    "<img src=\"img/04xgbautopart1.png\" />"
   ]
  },
  {
   "attachments": {},
   "cell_type": "markdown",
   "metadata": {},
   "source": [
    "<img src=\"img/04xgbautopart2.png\" />"
   ]
  },
  {
   "attachments": {},
   "cell_type": "markdown",
   "metadata": {},
   "source": [
    "<img src=\"img/04xgbautopart3.png\" />"
   ]
  },
  {
   "cell_type": "markdown",
   "metadata": {},
   "source": [
    "### Train multiple Scikit-Learn models and track each with mlflow auto log ###"
   ]
  },
  {
   "cell_type": "code",
   "execution_count": 26,
   "metadata": {},
   "outputs": [],
   "source": [
    "from sklearn.ensemble import RandomForestRegressor, GradientBoostingRegressor, ExtraTreesRegressor\n",
    "from sklearn.svm import LinearSVR"
   ]
  },
  {
   "cell_type": "code",
   "execution_count": null,
   "metadata": {},
   "outputs": [],
   "source": [
    "mlflow.sklearn.autolog() # enable auto logging\n",
    "\n",
    "for model_class in (RandomForestRegressor, GradientBoostingRegressor, ExtraTreesRegressor, LinearSVR):\n",
    "    print(f'Running model: {model_class.__name__}')\n",
    "    with mlflow.start_run(): # tracks for each model\n",
    "\n",
    "        mlflow.log_param(\"train-data-path\", \"./data/green_tripdata_2021-01.csv\")\n",
    "        mlflow.log_param(\"valid-data-path\", \"./data/green_tripdata_2021-02.csv\")\n",
    "\n",
    "        mlmodel = model_class()\n",
    "        mlmodel.fit(X_train, y_train)\n",
    "\n",
    "        y_pred = mlmodel.predict(X_valid)\n",
    "        rmse = mean_squared_error(y_valid, y_pred, squared=False)\n",
    "        mlflow.log_metric(\"rmse\", rmse)"
   ]
  },
  {
   "cell_type": "code",
   "execution_count": 35,
   "metadata": {},
   "outputs": [
    {
     "name": "stderr",
     "output_type": "stream",
     "text": [
      "c:\\Users\\bhaga\\Envs\\exp-tracking-env\\lib\\site-packages\\sklearn\\svm\\_base.py:1225: ConvergenceWarning: Liblinear failed to converge, increase the number of iterations.\n",
      "  warnings.warn(\n"
     ]
    }
   ],
   "source": [
    "mlflow.sklearn.autolog() # enable auto logging\n",
    "\n",
    "with mlflow.start_run(): # tracks for each model\n",
    "\n",
    "    mlflow.log_param(\"train-data-path\", \"./data/green_tripdata_2021-01.csv\")\n",
    "    mlflow.log_param(\"valid-data-path\", \"./data/green_tripdata_2021-02.csv\")\n",
    "\n",
    "    mlmodel = LinearSVR()\n",
    "    mlmodel.fit(X_train, y_train)\n",
    "\n",
    "    y_pred = mlmodel.predict(X_valid)\n",
    "    rmse = mean_squared_error(y_valid, y_pred, squared=False)\n",
    "    mlflow.log_metric(\"rmse\", rmse)"
   ]
  },
  {
   "cell_type": "code",
   "execution_count": null,
   "metadata": {},
   "outputs": [],
   "source": []
  }
 ],
 "metadata": {
  "kernelspec": {
   "display_name": "Python 3 (ipykernel)",
   "language": "python",
   "name": "python3"
  },
  "language_info": {
   "codemirror_mode": {
    "name": "ipython",
    "version": 3
   },
   "file_extension": ".py",
   "mimetype": "text/x-python",
   "name": "python",
   "nbconvert_exporter": "python",
   "pygments_lexer": "ipython3",
   "version": "3.9.5"
  },
  "vscode": {
   "interpreter": {
    "hash": "9ac797237c044345b4ae69b5bd1226c868e97e11e2eb50fe74410ea228f2a624"
   }
  }
 },
 "nbformat": 4,
 "nbformat_minor": 2
}
